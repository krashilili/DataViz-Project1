{
 "cells": [
  {
   "cell_type": "code",
   "execution_count": 1,
   "metadata": {},
   "outputs": [],
   "source": [
    "import requests\n",
    "import json\n",
    "import prettytable\n",
    "import pandas as pd\n",
    "from collections import defaultdict"
   ]
  },
  {
   "cell_type": "code",
   "execution_count": 2,
   "metadata": {
    "scrolled": true
   },
   "outputs": [
    {
     "data": {
      "text/plain": [
       "defaultdict(list,\n",
       "            {'Fairfield': ['LAUMT097195000000003',\n",
       "              'LAUMT097195000000004',\n",
       "              'LAUMT097195000000005',\n",
       "              'LAUMT097195000000006'],\n",
       "             'Litchfield': ['LAUMT097870000000003',\n",
       "              'LAUMT097870000000004',\n",
       "              'LAUMT097870000000005',\n",
       "              'LAUMT097870000000006'],\n",
       "             'Middlesex': ['LAUMT097570000000003',\n",
       "              'LAUMT097570000000004',\n",
       "              'LAUMT097570000000005',\n",
       "              'LAUMT097570000000006'],\n",
       "             'New London': ['LAUMT097645000000003',\n",
       "              'LAUMT097645000000004',\n",
       "              'LAUMT097645000000005',\n",
       "              'LAUMT097645000000006'],\n",
       "             'Tolland': ['LAUMT097345000000003',\n",
       "              'LAUMT097345000000004',\n",
       "              'LAUMT097345000000005',\n",
       "              'LAUMT097345000000006'],\n",
       "             'Windham': ['LAUMT257960000000003',\n",
       "              'LAUMT257960000000004',\n",
       "              'LAUMT257960000000005',\n",
       "              'LAUMT257960000000006']})"
      ]
     },
     "execution_count": 2,
     "metadata": {},
     "output_type": "execute_result"
    }
   ],
   "source": [
    "economic_area_to_county= {\n",
    "    'Bridgeport-Stamford-Norwalk':'Fairfield',\n",
    "    'Waterbury':'Litchfield',\n",
    "    'New Haven':'New Haven',\n",
    "    'Hartford-West Hartford-East Hartford':'Hartford',\n",
    "    'New Haven':'Middlesex',\n",
    "    'Hartford-West Hartford-East Hartford':'Tolland',\n",
    "    'Norwich-New London-Westerly':'New London',\n",
    "    'Worcester':'Windham'\n",
    "}\n",
    "\n",
    "econmic_area_series_id ={\n",
    "    'Bridgeport-Stamford-Norwalk':['LAUMT097195000000003','LAUMT097195000000004','LAUMT097195000000005','LAUMT097195000000006'],\n",
    "    'Waterbury':['LAUMT097870000000003','LAUMT097870000000004','LAUMT097870000000005','LAUMT097870000000006'],\n",
    "    'New Haven':['LAUMT097570000000003','LAUMT097570000000004','LAUMT097570000000005','LAUMT097570000000006'],\n",
    "    'Hartford-West Hartford-East Hartford':['LAUMT097345000000003','LAUMT097345000000004','LAUMT097345000000005','LAUMT097345000000006'],\n",
    "    'Norwich-New London-Westerly':['LAUMT097645000000003','LAUMT097645000000004','LAUMT097645000000005','LAUMT097645000000006'],\n",
    "    'Worcester':['LAUMT257960000000003','LAUMT257960000000004','LAUMT257960000000005','LAUMT257960000000006']\n",
    "}\n",
    "\n",
    "period = {'M12':'Dec','M11':'Nov','M10':'Oct','M09':'Sept','M08':'Aug','M07':'July','M06':'Jun','M05':'May',\n",
    "         'M04':'Apr','M03':'Mar','M02':'Feb','M01':'Jan'}\n",
    "\n",
    "series_id_to_county = dict()\n",
    "\n",
    "for ea, val in econmic_area_series_id.items():\n",
    "    for sid in val:\n",
    "        series_id_to_county[sid] = economic_area_to_county.get(ea)\n",
    "county_to_series_id = defaultdict(list)\n",
    "\n",
    "for sid, county in series_id_to_county.items():\n",
    "    county_to_series_id[county].append(sid)\n",
    "county_to_series_id"
   ]
  },
  {
   "cell_type": "code",
   "execution_count": 3,
   "metadata": {},
   "outputs": [],
   "source": [
    "unemployment_df = pd.DataFrame()\n",
    "unemployment_df['County'] = ''\n",
    "unemployment_df['Year'] =''\n",
    "unemployment_df['Period'] =''\n",
    "unemployment_df['Unemployment Rate'] =''"
   ]
  },
  {
   "cell_type": "code",
   "execution_count": 4,
   "metadata": {},
   "outputs": [
    {
     "data": {
      "text/html": [
       "<div>\n",
       "<style scoped>\n",
       "    .dataframe tbody tr th:only-of-type {\n",
       "        vertical-align: middle;\n",
       "    }\n",
       "\n",
       "    .dataframe tbody tr th {\n",
       "        vertical-align: top;\n",
       "    }\n",
       "\n",
       "    .dataframe thead th {\n",
       "        text-align: right;\n",
       "    }\n",
       "</style>\n",
       "<table border=\"1\" class=\"dataframe\">\n",
       "  <thead>\n",
       "    <tr style=\"text-align: right;\">\n",
       "      <th></th>\n",
       "      <th>County</th>\n",
       "      <th>Year</th>\n",
       "      <th>Period</th>\n",
       "      <th>Unemployment Rate</th>\n",
       "    </tr>\n",
       "  </thead>\n",
       "  <tbody>\n",
       "  </tbody>\n",
       "</table>\n",
       "</div>"
      ],
      "text/plain": [
       "Empty DataFrame\n",
       "Columns: [County, Year, Period, Unemployment Rate]\n",
       "Index: []"
      ]
     },
     "execution_count": 4,
     "metadata": {},
     "output_type": "execute_result"
    }
   ],
   "source": [
    "unemployment_df"
   ]
  },
  {
   "cell_type": "code",
   "execution_count": 6,
   "metadata": {},
   "outputs": [
    {
     "name": "stdout",
     "output_type": "stream",
     "text": [
      "Fairfield\n",
      "['LAUMT097195000000003', 'LAUMT097195000000004', 'LAUMT097195000000005', 'LAUMT097195000000006']\n"
     ]
    },
    {
     "ename": "KeyError",
     "evalue": "'series'",
     "output_type": "error",
     "traceback": [
      "\u001b[1;31m---------------------------------------------------------------------------\u001b[0m",
      "\u001b[1;31mKeyError\u001b[0m                                  Traceback (most recent call last)",
      "\u001b[1;32m<ipython-input-6-9e732871f4ec>\u001b[0m in \u001b[0;36m<module>\u001b[1;34m()\u001b[0m\n\u001b[0;32m     12\u001b[0m     \u001b[0mjson_data\u001b[0m \u001b[1;33m=\u001b[0m \u001b[0mjson\u001b[0m\u001b[1;33m.\u001b[0m\u001b[0mloads\u001b[0m\u001b[1;33m(\u001b[0m\u001b[0mp\u001b[0m\u001b[1;33m.\u001b[0m\u001b[0mtext\u001b[0m\u001b[1;33m)\u001b[0m\u001b[1;33m\u001b[0m\u001b[0m\n\u001b[0;32m     13\u001b[0m \u001b[1;33m\u001b[0m\u001b[0m\n\u001b[1;32m---> 14\u001b[1;33m     \u001b[1;32mfor\u001b[0m \u001b[0mseries\u001b[0m \u001b[1;32min\u001b[0m \u001b[0mjson_data\u001b[0m\u001b[1;33m[\u001b[0m\u001b[1;34m'Results'\u001b[0m\u001b[1;33m]\u001b[0m\u001b[1;33m[\u001b[0m\u001b[1;34m'series'\u001b[0m\u001b[1;33m]\u001b[0m\u001b[1;33m:\u001b[0m\u001b[1;33m\u001b[0m\u001b[0m\n\u001b[0m\u001b[0;32m     15\u001b[0m         \u001b[0mx\u001b[0m\u001b[1;33m=\u001b[0m\u001b[0mprettytable\u001b[0m\u001b[1;33m.\u001b[0m\u001b[0mPrettyTable\u001b[0m\u001b[1;33m(\u001b[0m\u001b[1;33m[\u001b[0m\u001b[1;34m\"series id\"\u001b[0m\u001b[1;33m,\u001b[0m\u001b[1;34m\"year\"\u001b[0m\u001b[1;33m,\u001b[0m\u001b[1;34m\"period\"\u001b[0m\u001b[1;33m,\u001b[0m\u001b[1;34m\"value\"\u001b[0m\u001b[1;33m,\u001b[0m\u001b[1;34m\"footnotes\"\u001b[0m\u001b[1;33m]\u001b[0m\u001b[1;33m)\u001b[0m\u001b[1;33m\u001b[0m\u001b[0m\n\u001b[0;32m     16\u001b[0m         \u001b[0mseriesId\u001b[0m \u001b[1;33m=\u001b[0m \u001b[0mseries\u001b[0m\u001b[1;33m[\u001b[0m\u001b[1;34m'seriesID'\u001b[0m\u001b[1;33m]\u001b[0m\u001b[1;33m\u001b[0m\u001b[0m\n",
      "\u001b[1;31mKeyError\u001b[0m: 'series'"
     ]
    }
   ],
   "source": [
    "\n",
    "headers = {'Content-type': 'application/json'}\n",
    "\n",
    "index = 0\n",
    "for county, sids in county_to_series_id.items():\n",
    "    print(county)\n",
    "    print(sids)\n",
    "    data = json.dumps({\"seriesid\": ['LAUMT097195000000003', 'LAUMT097195000000004', 'LAUMT097195000000005', 'LAUMT097195000000006'],\"startyear\":\"2008\", \"endyear\":\"2009\"})\n",
    "\n",
    "    p = requests.post('https://api.bls.gov/publicAPI/v2/timeseries/data/', data=data, headers=headers)\n",
    "\n",
    "    json_data = json.loads(p.text)\n",
    "    \n",
    "    for series in json_data['Results']['series']:\n",
    "        x=prettytable.PrettyTable([\"series id\",\"year\",\"period\",\"value\",\"footnotes\"])\n",
    "        seriesId = series['seriesID']\n",
    "\n",
    "        for item in series['data']:\n",
    "\n",
    "            unemployment_df.loc[index, 'County'] = series_id_to_county[seriesId]\n",
    "            unemployment_df.loc[index, 'Year'] = item['year']\n",
    "            unemployment_df.loc[index, 'Period'] = period.get(item['period'])\n",
    "            unemployment_df.loc[index, 'Unemployment Rate'] = item['value']\n",
    "            index +=1\n",
    "    \n",
    "    break"
   ]
  },
  {
   "cell_type": "code",
   "execution_count": null,
   "metadata": {},
   "outputs": [],
   "source": [
    "unemployment_df"
   ]
  },
  {
   "cell_type": "code",
   "execution_count": null,
   "metadata": {},
   "outputs": [],
   "source": []
  }
 ],
 "metadata": {
  "kernelspec": {
   "display_name": "Python 3",
   "language": "python",
   "name": "python3"
  }
 },
 "nbformat": 4,
 "nbformat_minor": 2
}
