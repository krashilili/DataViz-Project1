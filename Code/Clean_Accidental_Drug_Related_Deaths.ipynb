{
 "cells": [
  {
   "cell_type": "code",
   "execution_count": 3,
   "metadata": {},
   "outputs": [],
   "source": [
    "# Dependencies# Depen \n",
    "import requests\n",
    "import json\n",
    "import pandas as pd\n",
    "# Google developer API key. Create a config.py and put your own google api key to the file.\n",
    "# from config import gkey\n",
    "import numpy as np"
   ]
  },
  {
   "cell_type": "markdown",
   "metadata": {},
   "source": [
    "#### Filling out the empty county cells using Google API"
   ]
  },
  {
   "cell_type": "code",
   "execution_count": 10,
   "metadata": {},
   "outputs": [
    {
     "data": {
      "text/plain": [
       "Index(['CaseNumber', 'Date', 'Year', 'Sex', 'Race', 'Age', 'Residence City',\n",
       "       'Residence State', 'Residence County', 'Death City', 'Death State',\n",
       "       'Death County', 'Location', 'DescriptionofInjury', 'InjuryPlace',\n",
       "       'ImmediateCauseA', 'Heroin', 'Cocaine', 'Fentanyl', 'Oxycodone',\n",
       "       'Oxymorphone', 'EtOH', 'Hydrocodone', 'Benzodiazepine', 'Methadone',\n",
       "       'Amphet', 'Tramad', 'Morphine (not heroin)', 'Other', 'Any Opioid',\n",
       "       'MannerofDeath', 'AmendedMannerofDeath', 'DeathLoc',\n",
       "       'DeathLocationCity', 'DeathLocLat', 'DeathLocLong'],\n",
       "      dtype='object')"
      ]
     },
     "execution_count": 10,
     "metadata": {},
     "output_type": "execute_result"
    }
   ],
   "source": [
    "# Import the raw data\n",
    "drug_death_raw_df = pd.read_csv(\"../Resources/Accidental_Drug_Related_Deaths_2012-2017.csv\")\n",
    "drug_death_raw_df = drug_death_raw_df[1:]\n",
    "drug_death_raw_df.columns"
   ]
  },
  {
   "cell_type": "code",
   "execution_count": 3,
   "metadata": {
    "scrolled": true
   },
   "outputs": [],
   "source": [
    "# index = 0\n",
    "for rindex, row in drug_death_raw_df.iterrows():\n",
    "    death_county = row['Death County']\n",
    "\n",
    "    if pd.isnull(death_county):\n",
    "        \n",
    "        # Use Google geo-api to populate the empty county\n",
    "        death_city = row['DeathLocationCity']\n",
    "\n",
    "        # Target city\n",
    "        target_city = f\"{death_city}, CT\"\n",
    "\n",
    "        # Build the endpoint URL\n",
    "        target_url = \"https://maps.googleapis.com/maps/api/geocode/json?\" \\\n",
    "            \"address=%s&key=%s\" % (target_city, gkey)\n",
    "\n",
    "\n",
    "        try:\n",
    "            geo_data = requests.get(target_url).json()\n",
    "\n",
    "            county_name = ' '.join(geo_data[\"results\"][0][\"address_components\"][1]['long_name'].split(' ')[:2])\n",
    "\n",
    "            # Populate the death county cell\n",
    "            drug_death_raw_df.loc[rindex,'Death County'] = county_name\n",
    "            \n",
    "        except:\n",
    "            print(\"Failed.\")"
   ]
  },
  {
   "cell_type": "markdown",
   "metadata": {},
   "source": [
    "#### Cleaning the county names"
   ]
  },
  {
   "cell_type": "code",
   "execution_count": 4,
   "metadata": {
    "scrolled": true
   },
   "outputs": [
    {
     "data": {
      "text/plain": [
       "HARTFORD              1022\n",
       "NEW HAVEN              975\n",
       "FAIRFIELD              555\n",
       "NEW LONDON             319\n",
       "LITCHFIELD             187\n",
       "Hartford County        181\n",
       "MIDDLESEX              154\n",
       "New Haven              140\n",
       "WINDHAM                116\n",
       "TOLLAND                100\n",
       "Fairfield County        99\n",
       "New London              37\n",
       "Manchester              29\n",
       "Windham County          23\n",
       "Litchfield              16\n",
       "Wallingford             15\n",
       "Tolland County          14\n",
       "Litchfield County       11\n",
       "Windham                 10\n",
       "Middlesex County        10\n",
       "Huntington               8\n",
       "Colchester               7\n",
       "Portland                 6\n",
       "Groton                   6\n",
       "Guilford                 4\n",
       "Montville                4\n",
       "Deep River               4\n",
       "Waterford                3\n",
       "Stonington               3\n",
       "East Windsor             2\n",
       "Newtown                  2\n",
       "Killingly                2\n",
       "Simsbury                 2\n",
       "Bethel                   2\n",
       "Winchester               1\n",
       "Westbrook                1\n",
       "Watertown                1\n",
       "Connecticut Avenue       1\n",
       "USA                      1\n",
       "Griswold                 1\n",
       "Suffield                 1\n",
       "Sprague                  1\n",
       "Madison                  1\n",
       "Mansfield                1\n",
       " FAIRFIELD               1\n",
       "Greenwich                1\n",
       "Haddam                   1\n",
       "Plymouth                 1\n",
       "Name: Death County, dtype: int64"
      ]
     },
     "execution_count": 4,
     "metadata": {},
     "output_type": "execute_result"
    }
   ],
   "source": [
    "drug_death_raw_df['Death County'].value_counts()"
   ]
  },
  {
   "cell_type": "code",
   "execution_count": 5,
   "metadata": {
    "scrolled": true
   },
   "outputs": [],
   "source": [
    "# County names in uppercase\n",
    "drug_death_raw_df['Death County'] = drug_death_raw_df['Death County'].str.upper()\n",
    "# Remove 'County' from the county names\n",
    "remove_county = lambda x: ' '.join(x.split(' ')[:-1]) if 'COUNTY' in x else x\n",
    "drug_death_raw_df['Death County'] = drug_death_raw_df['Death County'].apply(remove_county)\n",
    "# Remove whitespace\n",
    "drug_death_raw_df['Death County'] = drug_death_raw_df['Death County'].str.strip()\n",
    "# Clean the county cells filled with city names\n",
    "cities = {'MANCHESTER':'HARTFORD', 'WALLINGFORD':'NEW HAVEN',\n",
    "         'HUNTINGTON':'FAIRFIELD','COLCHESTER':'NEW LONDON',\n",
    "         'PORTLAND':'MIDDLESEX', 'GROTON':'NEW LONDON',\n",
    "         'GUILFORD':'NEW HAVEN', 'MONTVILLE':'NEW LONDON',\n",
    "         'DEEP RIVER':'MIDDLESEX','STONINGTON':'NEW LONDON',\n",
    "         'WATERFORD':'NEW LONDON','KILLINGLY':'WINDHAM',\n",
    "         'SIMSBURY':'HARTFORD', 'EAST WINDSOR':'HARTFORD',\n",
    "         'NEWTOWN':'FAIRFIELD', 'BETHEL':'FAIRFIELD',\n",
    "         'WESTBROOK':'MIDDLESEX','HADDAM':'MIDDLESEX',\n",
    "         'WINCHESTER':'LITCHFIELD','SPRAGUE':'NEW LONDON',\n",
    "         'GREENWICH':'FAIRFIELD','MADISON':'NEW HAVEN',\n",
    "         'WATERTOWN':'LITCHFIELD','GRISWOLD':'NEW LONDON',\n",
    "         'PLYMOUTH':'LITCHFIELD','MANSFIELD':'TOLLAND',\n",
    "         'CONNECTICUT AVENUE':'HARTFORD', 'SUFFIELD':'HARTFORD'}\n",
    "replace_cities = lambda x: cities.get(x) if x in cities.keys() else x\n",
    "drug_death_raw_df['Death County']= drug_death_raw_df['Death County'].apply(replace_cities)\n",
    "drug_death_raw_df['Death County'] = drug_death_raw_df['Death County'].str.title()"
   ]
  },
  {
   "cell_type": "code",
   "execution_count": 6,
   "metadata": {},
   "outputs": [],
   "source": [
    "drug_death_df = drug_death_raw_df[drug_death_raw_df['Death County'] != 'Usa']"
   ]
  },
  {
   "cell_type": "code",
   "execution_count": 7,
   "metadata": {},
   "outputs": [
    {
     "data": {
      "text/plain": [
       "Hartford      1238\n",
       "New Haven     1135\n",
       "Fairfield      668\n",
       "New London     381\n",
       "Litchfield     217\n",
       "Middlesex      176\n",
       "Windham        151\n",
       "Tolland        115\n",
       "Name: Death County, dtype: int64"
      ]
     },
     "execution_count": 7,
     "metadata": {},
     "output_type": "execute_result"
    }
   ],
   "source": [
    "drug_death_df['Death County'].value_counts()"
   ]
  },
  {
   "cell_type": "code",
   "execution_count": 8,
   "metadata": {},
   "outputs": [
    {
     "data": {
      "text/plain": [
       "CaseNumber               4081\n",
       "Date                     4079\n",
       "Year                     4081\n",
       "Sex                      4078\n",
       "Race                     4071\n",
       "Age                      4079\n",
       "Residence City           3947\n",
       "Residence State          2116\n",
       "Residence County         3331\n",
       "Death City               4078\n",
       "Death State              2201\n",
       "Death County             4081\n",
       "Location                 4060\n",
       "DescriptionofInjury      1495\n",
       "InjuryPlace              4003\n",
       "ImmediateCauseA          4081\n",
       "Heroin                   2154\n",
       "Cocaine                  1175\n",
       "Fentanyl                 1466\n",
       "Oxycodone                 547\n",
       "Oxymorphone                97\n",
       "EtOH                     1005\n",
       "Hydrocodone               105\n",
       "Benzodiazepine           1077\n",
       "Methadone                 387\n",
       "Amphet                    103\n",
       "Tramad                     90\n",
       "Morphine (not heroin)      56\n",
       "Other                     378\n",
       "Any Opioid                714\n",
       "MannerofDeath            4074\n",
       "AmendedMannerofDeath       28\n",
       "DeathLoc                 4081\n",
       "DeathLocationCity        4081\n",
       "DeathLocLat              4081\n",
       "DeathLocLong             4081\n",
       "dtype: int64"
      ]
     },
     "execution_count": 8,
     "metadata": {},
     "output_type": "execute_result"
    }
   ],
   "source": [
    "# Inspect the dataset\n",
    "drug_death_df.count()"
   ]
  },
  {
   "cell_type": "markdown",
   "metadata": {},
   "source": [
    "#### Dropping the cases without date "
   ]
  },
  {
   "cell_type": "code",
   "execution_count": 9,
   "metadata": {
    "scrolled": true
   },
   "outputs": [
    {
     "data": {
      "text/plain": [
       "CaseNumber               4079\n",
       "Date                     4079\n",
       "Year                     4079\n",
       "Sex                      4077\n",
       "Race                     4070\n",
       "Age                      4078\n",
       "Residence City           3947\n",
       "Residence State          2116\n",
       "Residence County         3331\n",
       "Death City               4078\n",
       "Death State              2201\n",
       "Death County             4079\n",
       "Location                 4060\n",
       "DescriptionofInjury      1495\n",
       "InjuryPlace              4001\n",
       "ImmediateCauseA          4079\n",
       "Heroin                   2154\n",
       "Cocaine                  1174\n",
       "Fentanyl                 1466\n",
       "Oxycodone                 547\n",
       "Oxymorphone                97\n",
       "EtOH                     1005\n",
       "Hydrocodone               105\n",
       "Benzodiazepine           1077\n",
       "Methadone                 387\n",
       "Amphet                    103\n",
       "Tramad                     90\n",
       "Morphine (not heroin)      56\n",
       "Other                     377\n",
       "Any Opioid                714\n",
       "MannerofDeath            4073\n",
       "AmendedMannerofDeath       28\n",
       "DeathLoc                 4079\n",
       "DeathLocationCity        4079\n",
       "DeathLocLat              4079\n",
       "DeathLocLong             4079\n",
       "dtype: int64"
      ]
     },
     "execution_count": 9,
     "metadata": {},
     "output_type": "execute_result"
    }
   ],
   "source": [
    "drug_death_df = drug_death_df[~pd.isna(drug_death_df['Date'])]\n",
    "drug_death_df.count()"
   ]
  },
  {
   "cell_type": "code",
   "execution_count": 10,
   "metadata": {},
   "outputs": [],
   "source": [
    "# Populate the missing death state with 'CT'\n",
    "drug_death_df['Death State'] = 'CT'"
   ]
  },
  {
   "cell_type": "code",
   "execution_count": 11,
   "metadata": {},
   "outputs": [
    {
     "data": {
      "text/plain": [
       "CT    4079\n",
       "Name: Death State, dtype: int64"
      ]
     },
     "execution_count": 11,
     "metadata": {},
     "output_type": "execute_result"
    }
   ],
   "source": [
    "drug_death_df['Death State'].value_counts()"
   ]
  },
  {
   "cell_type": "markdown",
   "metadata": {},
   "source": [
    "#### Removing the unnamed column"
   ]
  },
  {
   "cell_type": "code",
   "execution_count": 12,
   "metadata": {},
   "outputs": [],
   "source": [
    "# Remove the unnamed columns\n",
    "drug_death_df = drug_death_df.loc[:, ~drug_death_df.columns.str.contains('^Unnamed')]"
   ]
  },
  {
   "cell_type": "markdown",
   "metadata": {},
   "source": [
    "#### Exporting to a CSV file "
   ]
  },
  {
   "cell_type": "code",
   "execution_count": 13,
   "metadata": {},
   "outputs": [],
   "source": [
    "drug_death_df.to_csv(\"Resources/Accidental_Drug_Related_Deaths_2012-2017_cleaned.csv\",index=False)"
   ]
  },
  {
   "cell_type": "code",
   "execution_count": null,
   "metadata": {},
   "outputs": [],
   "source": []
  }
 ],
 "metadata": {
  "kernelspec": {
   "display_name": "Python 3",
   "language": "python",
   "name": "python3"
  },
  "language_info": {
   "codemirror_mode": {
    "name": "ipython",
    "version": 3
   },
   "file_extension": ".py",
   "mimetype": "text/x-python",
   "name": "python",
   "nbconvert_exporter": "python",
   "pygments_lexer": "ipython3",
   "version": "3.6.4"
  }
 },
 "nbformat": 4,
 "nbformat_minor": 2
}
