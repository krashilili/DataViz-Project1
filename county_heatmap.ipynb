{
 "cells": [
  {
   "cell_type": "code",
   "execution_count": 1,
   "metadata": {},
   "outputs": [],
   "source": [
    "import pandas as pd\n",
    "from sodapy import Socrata\n",
    "from IPython.display import display\n",
    "import gmplot\n",
    "import requests\n",
    "from bs4 import BeautifulSoup\n",
    "from pprint import pprint\n",
    "from config import gkey\n",
    "import re\n",
    "import numpy as np\n",
    "import gmaps\n",
    "%matplotlib inline"
   ]
  },
  {
   "cell_type": "markdown",
   "metadata": {},
   "source": [
    "Since we are looking at county level data in Connecticut, caching some county information. \n",
    "1. Use BeautifulSoup to get the list of counties in Connecticut from Wikipedia\n",
    "2. Use Google geocode to get latitude and longitude information for each county.\n",
    "This information will be used later to generate a heatmap."
   ]
  },
  {
   "cell_type": "code",
   "execution_count": 2,
   "metadata": {},
   "outputs": [],
   "source": [
    "wiki = \"https://en.wikipedia.org/wiki/List_of_counties_in_Connecticut\"\n",
    "req = requests.get(wiki)\n",
    "soup = BeautifulSoup(req.text,\"lxml\")\n",
    "table = soup.find(\"table\", { \"class\" : \"wikitable sortable\" })"
   ]
  },
  {
   "cell_type": "code",
   "execution_count": 3,
   "metadata": {},
   "outputs": [
    {
     "data": {
      "text/plain": [
       "['FAIRFIELD',\n",
       " 'HARTFORD',\n",
       " 'LITCHFIELD',\n",
       " 'MIDDLESEX',\n",
       " 'NEW HAVEN',\n",
       " 'NEW LONDON',\n",
       " 'TOLLAND',\n",
       " 'WINDHAM']"
      ]
     },
     "execution_count": 3,
     "metadata": {},
     "output_type": "execute_result"
    }
   ],
   "source": [
    "counties_list = []\n",
    "for row in table.findAll(\"tr\"):\n",
    "    cells = row.findAll(\"td\")\n",
    "    if cells:\n",
    "        county = cells[0].find(text=True)\n",
    "        county = re.sub(\"County\",\"\",county).upper().rstrip()\n",
    "        counties_list.append(county)\n",
    "counties_list"
   ]
  },
  {
   "cell_type": "code",
   "execution_count": 4,
   "metadata": {},
   "outputs": [
    {
     "name": "stdout",
     "output_type": "stream",
     "text": [
      "{'FAIRFIELD': {'lat': 41.2559654, 'lng': -73.37086959999999},\n",
      " 'HARTFORD': {'lat': 41.7924343, 'lng': -72.8042797},\n",
      " 'LITCHFIELD': {'lat': 41.7866294, 'lng': -73.2765361},\n",
      " 'MIDDLESEX': {'lat': 41.46985050000001, 'lng': -72.4731529},\n",
      " 'NEW HAVEN': {'lat': 41.3266911, 'lng': -72.8042797},\n",
      " 'NEW LONDON': {'lat': 41.5185189, 'lng': -72.0468164},\n",
      " 'TOLLAND': {'lat': 41.8418987, 'lng': -72.37846789999999},\n",
      " 'WINDHAM': {'lat': 41.8275622, 'lng': -72.0468164}}\n"
     ]
    }
   ],
   "source": [
    "geo_location = {county:{} for county in counties_list}\n",
    "for county in counties_list:\n",
    "    target_url = f\"https://maps.googleapis.com/maps/api/geocode/json?\" \\\n",
    "            f\"address={county} county,CT&key={gkey}\"\n",
    "    try:\n",
    "        geo_data = requests.get(target_url).json() \n",
    "        lat = geo_data[\"results\"][0][\"geometry\"][\"location\"][\"lat\"]\n",
    "        lng = geo_data[\"results\"][0][\"geometry\"][\"location\"][\"lng\"]\n",
    "    except Exception as exp:\n",
    "        print(f\"ERROR2:{exp}, {geo_data}\")\n",
    "        lat = \"\"\n",
    "        lng = \"\"\n",
    "    geo_location[county][\"lat\"] = lat\n",
    "    geo_location[county]['lng'] = lng\n",
    "    \n",
    "pprint(geo_location)"
   ]
  },
  {
   "cell_type": "markdown",
   "metadata": {},
   "source": [
    "Getting Drug Death related information from CT, and cleaning up (removing rows which do not have county information.\n",
    "TODO: Get county information from the city information"
   ]
  },
  {
   "cell_type": "code",
   "execution_count": 5,
   "metadata": {},
   "outputs": [
    {
     "name": "stderr",
     "output_type": "stream",
     "text": [
      "WARNING:root:Requests made without an app_token will be subject to strict throttling limits.\n"
     ]
    }
   ],
   "source": [
    "client = Socrata(\"data.ct.gov\", None)"
   ]
  },
  {
   "cell_type": "code",
   "execution_count": 6,
   "metadata": {},
   "outputs": [],
   "source": [
    "results = client.get(\"u2qy-687x\")"
   ]
  },
  {
   "cell_type": "code",
   "execution_count": 7,
   "metadata": {},
   "outputs": [],
   "source": [
    "# Convert to pandas DataFrame\n",
    "results_df = pd.DataFrame.from_records(results)"
   ]
  },
  {
   "cell_type": "code",
   "execution_count": 8,
   "metadata": {},
   "outputs": [
    {
     "data": {
      "text/html": [
       "<div>\n",
       "<style scoped>\n",
       "    .dataframe tbody tr th:only-of-type {\n",
       "        vertical-align: middle;\n",
       "    }\n",
       "\n",
       "    .dataframe tbody tr th {\n",
       "        vertical-align: top;\n",
       "    }\n",
       "\n",
       "    .dataframe thead th {\n",
       "        text-align: right;\n",
       "    }\n",
       "</style>\n",
       "<table border=\"1\" class=\"dataframe\">\n",
       "  <thead>\n",
       "    <tr style=\"text-align: right;\">\n",
       "      <th></th>\n",
       "      <th>:@computed_region_dam5_q64j</th>\n",
       "      <th>:@computed_region_m4y2_whse</th>\n",
       "      <th>:@computed_region_nhmp_cq6b</th>\n",
       "      <th>:@computed_region_snd5_k6zv</th>\n",
       "      <th>age</th>\n",
       "      <th>amphet</th>\n",
       "      <th>any_opioid</th>\n",
       "      <th>benzo_s</th>\n",
       "      <th>casenumber</th>\n",
       "      <th>coc</th>\n",
       "      <th>...</th>\n",
       "      <th>morphine_not_heroin</th>\n",
       "      <th>other</th>\n",
       "      <th>oxyc</th>\n",
       "      <th>oxym</th>\n",
       "      <th>race</th>\n",
       "      <th>residence_city</th>\n",
       "      <th>residence_county</th>\n",
       "      <th>residence_state</th>\n",
       "      <th>sex</th>\n",
       "      <th>tramad</th>\n",
       "    </tr>\n",
       "  </thead>\n",
       "  <tbody>\n",
       "    <tr>\n",
       "      <th>0</th>\n",
       "      <td>1045</td>\n",
       "      <td>59</td>\n",
       "      <td>243</td>\n",
       "      <td>8</td>\n",
       "      <td>53</td>\n",
       "      <td>NaN</td>\n",
       "      <td>NaN</td>\n",
       "      <td>Y</td>\n",
       "      <td>13-16336</td>\n",
       "      <td>NaN</td>\n",
       "      <td>...</td>\n",
       "      <td>NaN</td>\n",
       "      <td>NaN</td>\n",
       "      <td>Y</td>\n",
       "      <td>Y</td>\n",
       "      <td>White</td>\n",
       "      <td>GROTON</td>\n",
       "      <td>NEW LONDON</td>\n",
       "      <td>NaN</td>\n",
       "      <td>Female</td>\n",
       "      <td>NaN</td>\n",
       "    </tr>\n",
       "    <tr>\n",
       "      <th>1</th>\n",
       "      <td>1044</td>\n",
       "      <td>151</td>\n",
       "      <td>167</td>\n",
       "      <td>4</td>\n",
       "      <td>30</td>\n",
       "      <td>NaN</td>\n",
       "      <td>NaN</td>\n",
       "      <td>NaN</td>\n",
       "      <td>12-18447</td>\n",
       "      <td>Y</td>\n",
       "      <td>...</td>\n",
       "      <td>NaN</td>\n",
       "      <td>NaN</td>\n",
       "      <td>Y</td>\n",
       "      <td>NaN</td>\n",
       "      <td>White</td>\n",
       "      <td>WOLCOTT</td>\n",
       "      <td>NEW HAVEN</td>\n",
       "      <td>NaN</td>\n",
       "      <td>Male</td>\n",
       "      <td>NaN</td>\n",
       "    </tr>\n",
       "    <tr>\n",
       "      <th>2</th>\n",
       "      <td>1041</td>\n",
       "      <td>49</td>\n",
       "      <td>108</td>\n",
       "      <td>1</td>\n",
       "      <td>43</td>\n",
       "      <td>NaN</td>\n",
       "      <td>NaN</td>\n",
       "      <td>Y</td>\n",
       "      <td>14-2758</td>\n",
       "      <td>NaN</td>\n",
       "      <td>...</td>\n",
       "      <td>NaN</td>\n",
       "      <td>NaN</td>\n",
       "      <td>NaN</td>\n",
       "      <td>NaN</td>\n",
       "      <td>White</td>\n",
       "      <td>ENFIELD</td>\n",
       "      <td>NaN</td>\n",
       "      <td>NaN</td>\n",
       "      <td>Male</td>\n",
       "      <td>NaN</td>\n",
       "    </tr>\n",
       "    <tr>\n",
       "      <th>3</th>\n",
       "      <td>1044</td>\n",
       "      <td>148</td>\n",
       "      <td>195</td>\n",
       "      <td>7</td>\n",
       "      <td>24</td>\n",
       "      <td>NaN</td>\n",
       "      <td>NaN</td>\n",
       "      <td>NaN</td>\n",
       "      <td>14-13497</td>\n",
       "      <td>NaN</td>\n",
       "      <td>...</td>\n",
       "      <td>NaN</td>\n",
       "      <td>NaN</td>\n",
       "      <td>NaN</td>\n",
       "      <td>NaN</td>\n",
       "      <td>White</td>\n",
       "      <td>WALLINGFORD</td>\n",
       "      <td>NaN</td>\n",
       "      <td>NaN</td>\n",
       "      <td>Female</td>\n",
       "      <td>NaN</td>\n",
       "    </tr>\n",
       "    <tr>\n",
       "      <th>4</th>\n",
       "      <td>1044</td>\n",
       "      <td>156</td>\n",
       "      <td>11</td>\n",
       "      <td>7</td>\n",
       "      <td>26</td>\n",
       "      <td>NaN</td>\n",
       "      <td>NaN</td>\n",
       "      <td>NaN</td>\n",
       "      <td>13-14421</td>\n",
       "      <td>NaN</td>\n",
       "      <td>...</td>\n",
       "      <td>NaN</td>\n",
       "      <td>NaN</td>\n",
       "      <td>NaN</td>\n",
       "      <td>NaN</td>\n",
       "      <td>White</td>\n",
       "      <td>WEST HAVEN</td>\n",
       "      <td>NEW HAVEN</td>\n",
       "      <td>NaN</td>\n",
       "      <td>Female</td>\n",
       "      <td>NaN</td>\n",
       "    </tr>\n",
       "  </tbody>\n",
       "</table>\n",
       "<p>5 rows × 36 columns</p>\n",
       "</div>"
      ],
      "text/plain": [
       "  :@computed_region_dam5_q64j :@computed_region_m4y2_whse  \\\n",
       "0                        1045                          59   \n",
       "1                        1044                         151   \n",
       "2                        1041                          49   \n",
       "3                        1044                         148   \n",
       "4                        1044                         156   \n",
       "\n",
       "  :@computed_region_nhmp_cq6b :@computed_region_snd5_k6zv age amphet  \\\n",
       "0                         243                           8  53    NaN   \n",
       "1                         167                           4  30    NaN   \n",
       "2                         108                           1  43    NaN   \n",
       "3                         195                           7  24    NaN   \n",
       "4                          11                           7  26    NaN   \n",
       "\n",
       "  any_opioid benzo_s casenumber  coc  ...   morphine_not_heroin other oxyc  \\\n",
       "0        NaN       Y   13-16336  NaN  ...                   NaN   NaN    Y   \n",
       "1        NaN     NaN   12-18447    Y  ...                   NaN   NaN    Y   \n",
       "2        NaN       Y    14-2758  NaN  ...                   NaN   NaN  NaN   \n",
       "3        NaN     NaN   14-13497  NaN  ...                   NaN   NaN  NaN   \n",
       "4        NaN     NaN   13-14421  NaN  ...                   NaN   NaN  NaN   \n",
       "\n",
       "  oxym   race residence_city residence_county residence_state     sex tramad  \n",
       "0    Y  White         GROTON       NEW LONDON             NaN  Female    NaN  \n",
       "1  NaN  White        WOLCOTT        NEW HAVEN             NaN    Male    NaN  \n",
       "2  NaN  White        ENFIELD              NaN             NaN    Male    NaN  \n",
       "3  NaN  White    WALLINGFORD              NaN             NaN  Female    NaN  \n",
       "4  NaN  White     WEST HAVEN        NEW HAVEN             NaN  Female    NaN  \n",
       "\n",
       "[5 rows x 36 columns]"
      ]
     },
     "execution_count": 8,
     "metadata": {},
     "output_type": "execute_result"
    }
   ],
   "source": [
    "results_df.head()"
   ]
  },
  {
   "cell_type": "code",
   "execution_count": 9,
   "metadata": {},
   "outputs": [
    {
     "data": {
      "text/plain": [
       "Index([':@computed_region_dam5_q64j', ':@computed_region_m4y2_whse',\n",
       "       ':@computed_region_nhmp_cq6b', ':@computed_region_snd5_k6zv', 'age',\n",
       "       'amphet', 'any_opioid', 'benzo_s', 'casenumber', 'coc', 'date',\n",
       "       'death_city', 'death_county', 'death_state', 'deathloc',\n",
       "       'deathloc_city', 'deathloc_state', 'etoh', 'fentanyl', 'heroin',\n",
       "       'hydr_cod', 'immediatecausea', 'injuryplace', 'location',\n",
       "       'mannerofdeath', 'methadone', 'morphine_not_heroin', 'other', 'oxyc',\n",
       "       'oxym', 'race', 'residence_city', 'residence_county', 'residence_state',\n",
       "       'sex', 'tramad'],\n",
       "      dtype='object')"
      ]
     },
     "execution_count": 9,
     "metadata": {},
     "output_type": "execute_result"
    }
   ],
   "source": [
    "results_df.columns"
   ]
  },
  {
   "cell_type": "code",
   "execution_count": 10,
   "metadata": {},
   "outputs": [],
   "source": [
    "results_df = results_df.dropna(subset=['death_county'])"
   ]
  },
  {
   "cell_type": "code",
   "execution_count": 12,
   "metadata": {},
   "outputs": [],
   "source": [
    "target_url = f\"https://maps.googleapis.com/maps/api/geocode/json?\" \\\n",
    "            f\"address=Hartford,CT,USA&key={gkey}\"\n",
    "try:\n",
    "    geo_data = requests.get(target_url).json() \n",
    "    lat = geo_data[\"results\"][0][\"geometry\"][\"location\"][\"lat\"]\n",
    "    lng = geo_data[\"results\"][0][\"geometry\"][\"location\"][\"lng\"]\n",
    "except:\n",
    "    print (\"Cannot find geocode for Hartford\")"
   ]
  },
  {
   "cell_type": "markdown",
   "metadata": {},
   "source": [
    "Generate a google heatmap for the density of deaths by location."
   ]
  },
  {
   "cell_type": "code",
   "execution_count": 15,
   "metadata": {},
   "outputs": [],
   "source": [
    "gmap = gmplot.GoogleMapPlotter(lat,lng,10)"
   ]
  },
  {
   "cell_type": "code",
   "execution_count": 16,
   "metadata": {},
   "outputs": [
    {
     "data": {
      "text/plain": [
       "<gmplot.gmplot.GoogleMapPlotter at 0x1f06d3cae10>"
      ]
     },
     "execution_count": 16,
     "metadata": {},
     "output_type": "execute_result"
    }
   ],
   "source": [
    "gmap"
   ]
  },
  {
   "cell_type": "code",
   "execution_count": 17,
   "metadata": {},
   "outputs": [],
   "source": [
    "def get_geocode(row):\n",
    "    place = row[\"death_county\"]\n",
    "    try:\n",
    "        row[\"lat\"] = geo_location[place][\"lat\"]\n",
    "        row['lng'] = geo_location[place][\"lng\"]\n",
    "    except:\n",
    "        print (f\"Cannot find {place} in CT counties, {row.name}.\")\n",
    "        row[\"lat\"] = np.nan\n",
    "        row[\"lng\"] = np.nan\n",
    "    return row"
   ]
  },
  {
   "cell_type": "code",
   "execution_count": 18,
   "metadata": {},
   "outputs": [
    {
     "name": "stdout",
     "output_type": "stream",
     "text": [
      "Cannot find USA in CT counties, 243.\n"
     ]
    }
   ],
   "source": [
    "results_df = results_df.apply(get_geocode,axis=1)\n",
    "#results_df[\"lng\"] = results_df.apply(get_geolng, axis=1)\n",
    "results_df = results_df.dropna(subset=['lat','lng'])"
   ]
  },
  {
   "cell_type": "code",
   "execution_count": 19,
   "metadata": {},
   "outputs": [],
   "source": [
    "gmap.heatmap(results_df[\"lat\"], results_df[\"lng\"])\n",
    "gmap.draw(\"my_heatmap.html\")"
   ]
  },
  {
   "cell_type": "code",
   "execution_count": 20,
   "metadata": {},
   "outputs": [
    {
     "data": {
      "text/html": [
       "<div>\n",
       "<style scoped>\n",
       "    .dataframe tbody tr th:only-of-type {\n",
       "        vertical-align: middle;\n",
       "    }\n",
       "\n",
       "    .dataframe tbody tr th {\n",
       "        vertical-align: top;\n",
       "    }\n",
       "\n",
       "    .dataframe thead th {\n",
       "        text-align: right;\n",
       "    }\n",
       "</style>\n",
       "<table border=\"1\" class=\"dataframe\">\n",
       "  <thead>\n",
       "    <tr style=\"text-align: right;\">\n",
       "      <th></th>\n",
       "      <th>:@computed_region_dam5_q64j</th>\n",
       "      <th>:@computed_region_m4y2_whse</th>\n",
       "      <th>:@computed_region_nhmp_cq6b</th>\n",
       "      <th>:@computed_region_snd5_k6zv</th>\n",
       "      <th>age</th>\n",
       "      <th>amphet</th>\n",
       "      <th>any_opioid</th>\n",
       "      <th>benzo_s</th>\n",
       "      <th>casenumber</th>\n",
       "      <th>coc</th>\n",
       "      <th>...</th>\n",
       "      <th>oxyc</th>\n",
       "      <th>oxym</th>\n",
       "      <th>race</th>\n",
       "      <th>residence_city</th>\n",
       "      <th>residence_county</th>\n",
       "      <th>residence_state</th>\n",
       "      <th>sex</th>\n",
       "      <th>tramad</th>\n",
       "      <th>lat</th>\n",
       "      <th>lng</th>\n",
       "    </tr>\n",
       "  </thead>\n",
       "  <tbody>\n",
       "  </tbody>\n",
       "</table>\n",
       "<p>0 rows × 38 columns</p>\n",
       "</div>"
      ],
      "text/plain": [
       "Empty DataFrame\n",
       "Columns: [:@computed_region_dam5_q64j, :@computed_region_m4y2_whse, :@computed_region_nhmp_cq6b, :@computed_region_snd5_k6zv, age, amphet, any_opioid, benzo_s, casenumber, coc, date, death_city, death_county, death_state, deathloc, deathloc_city, deathloc_state, etoh, fentanyl, heroin, hydr_cod, immediatecausea, injuryplace, location, mannerofdeath, methadone, morphine_not_heroin, other, oxyc, oxym, race, residence_city, residence_county, residence_state, sex, tramad, lat, lng]\n",
       "Index: []\n",
       "\n",
       "[0 rows x 38 columns]"
      ]
     },
     "execution_count": 20,
     "metadata": {},
     "output_type": "execute_result"
    }
   ],
   "source": [
    "results_df[results_df[\"death_county\"] == \"USA\"]"
   ]
  },
  {
   "cell_type": "code",
   "execution_count": 21,
   "metadata": {},
   "outputs": [
    {
     "data": {
      "text/plain": [
       "<zip at 0x1f06d53e548>"
      ]
     },
     "execution_count": 21,
     "metadata": {},
     "output_type": "execute_result"
    }
   ],
   "source": [
    "zip(results_df.lat, results_df.lng)"
   ]
  },
  {
   "cell_type": "code",
   "execution_count": 22,
   "metadata": {},
   "outputs": [],
   "source": [
    "gmap_data = list(zip(results_df.lat, results_df.lng))\n"
   ]
  },
  {
   "cell_type": "code",
   "execution_count": 23,
   "metadata": {},
   "outputs": [
    {
     "data": {
      "application/vnd.jupyter.widget-view+json": {
       "model_id": "bc0a424c9bfc4e1fb1756b326390652f",
       "version_major": 2,
       "version_minor": 0
      },
      "text/plain": [
       "Figure(layout=FigureLayout(height='420px'))"
      ]
     },
     "metadata": {},
     "output_type": "display_data"
    }
   ],
   "source": [
    "gmaps.configure(api_key=gkey)\n",
    "fig = gmaps.figure(map_type='HYBRID')\n",
    "heatmap_layer = gmaps.heatmap_layer(gmap_data)\n",
    "#heatmap_layer.gradient = ['white','silver','gray']\n",
    "fig.add_layer(heatmap_layer)\n",
    "fig"
   ]
  },
  {
   "cell_type": "code",
   "execution_count": 28,
   "metadata": {},
   "outputs": [
    {
     "ename": "ModuleNotFoundError",
     "evalue": "No module named 'mpl_toolkits.basemap'",
     "output_type": "error",
     "traceback": [
      "\u001b[1;31m---------------------------------------------------------------------------\u001b[0m",
      "\u001b[1;31mModuleNotFoundError\u001b[0m                       Traceback (most recent call last)",
      "\u001b[1;32m<ipython-input-28-4fc84cbcc854>\u001b[0m in \u001b[0;36m<module>\u001b[1;34m()\u001b[0m\n\u001b[0;32m      1\u001b[0m \u001b[1;32mimport\u001b[0m \u001b[0mmatplotlib\u001b[0m\u001b[1;33m.\u001b[0m\u001b[0mpyplot\u001b[0m \u001b[1;32mas\u001b[0m \u001b[0mplt\u001b[0m\u001b[1;33m\u001b[0m\u001b[0m\n\u001b[1;32m----> 2\u001b[1;33m \u001b[1;32mfrom\u001b[0m \u001b[0mmpl_toolkits\u001b[0m\u001b[1;33m.\u001b[0m\u001b[0mbasemap\u001b[0m \u001b[1;32mimport\u001b[0m \u001b[0mBasemap\u001b[0m\u001b[1;33m\u001b[0m\u001b[0m\n\u001b[0m",
      "\u001b[1;31mModuleNotFoundError\u001b[0m: No module named 'mpl_toolkits.basemap'"
     ]
    }
   ],
   "source": [
    "import matplotlib.pyplot as plt\n",
    "from mpl_toolkits.basemap import Basemap"
   ]
  },
  {
   "cell_type": "code",
   "execution_count": null,
   "metadata": {},
   "outputs": [],
   "source": []
  }
 ],
 "metadata": {
  "kernelspec": {
   "display_name": "Python [conda env:PythonData]",
   "language": "python",
   "name": "conda-env-PythonData-py"
  },
  "language_info": {
   "codemirror_mode": {
    "name": "ipython",
    "version": 3
   },
   "file_extension": ".py",
   "mimetype": "text/x-python",
   "name": "python",
   "nbconvert_exporter": "python",
   "pygments_lexer": "ipython3",
   "version": "3.6.5"
  }
 },
 "nbformat": 4,
 "nbformat_minor": 2
}
