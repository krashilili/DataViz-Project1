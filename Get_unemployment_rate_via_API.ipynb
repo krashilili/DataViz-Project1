{
 "cells": [
  {
   "cell_type": "markdown",
   "metadata": {},
   "source": [
    "### Retrieve the unemployment rate of Connecticut from 2012 through 2016"
   ]
  },
  {
   "cell_type": "code",
   "execution_count": 7,
   "metadata": {},
   "outputs": [],
   "source": [
    "import requests\n",
    "import json\n",
    "import prettytable\n",
    "import pandas as pd\n",
    "from collections import defaultdict"
   ]
  },
  {
   "cell_type": "code",
   "execution_count": 8,
   "metadata": {},
   "outputs": [],
   "source": [
    "economic_area_to_county= {\n",
    "    'Bridgeport-Stamford-Norwalk':['Fairfield'],\n",
    "    'Waterbury':['Litchfield'],\n",
    "    'New Haven':['New Haven','Middlesex'],\n",
    "    'Hartford-West Hartford-East Hartford':['Hartford','Tolland'],\n",
    "    'Norwich-New London-Westerly':['New London'],\n",
    "    'Worcester':['Windham']\n",
    "}\n",
    "\n",
    "econmic_area_series_id ={\n",
    "    'Bridgeport-Stamford-Norwalk':['LAUMT097195000000003','LAUMT097195000000004','LAUMT097195000000005','LAUMT097195000000006'],\n",
    "    'Waterbury':['LAUMT097870000000003','LAUMT097870000000004','LAUMT097870000000005','LAUMT097870000000006'],\n",
    "    'New Haven':['LAUMT097570000000003','LAUMT097570000000004','LAUMT097570000000005','LAUMT097570000000006'],\n",
    "    'Hartford-West Hartford-East Hartford':['LAUMT097345000000003','LAUMT097345000000004','LAUMT097345000000005','LAUMT097345000000006'],\n",
    "    'Norwich-New London-Westerly':['LAUMT097645000000003','LAUMT097645000000004','LAUMT097645000000005','LAUMT097645000000006'],\n",
    "    'Worcester':['LAUMT257960000000003','LAUMT257960000000004','LAUMT257960000000005','LAUMT257960000000006']\n",
    "}\n",
    "\n",
    "periods = {'M12':'Dec','M11':'Nov','M10':'Oct','M09':'Sept','M08':'Aug','M07':'July','M06':'Jun','M05':'May',\n",
    "         'M04':'Apr','M03':'Mar','M02':'Feb','M01':'Jan'}"
   ]
  },
  {
   "cell_type": "code",
   "execution_count": 9,
   "metadata": {
    "scrolled": true
   },
   "outputs": [],
   "source": [
    "county_to_economic_area = {c: ea for ea, county in economic_area_to_county.items() for c in county}\n",
    "county_to_series_id = {county: econmic_area_series_id.get(ea) for county, ea in county_to_economic_area.items()}\n",
    "# county_to_series_id"
   ]
  },
  {
   "cell_type": "code",
   "execution_count": 10,
   "metadata": {},
   "outputs": [],
   "source": [
    "unemployment_df = pd.DataFrame()\n",
    "unemployment_df['County'] = ''\n",
    "unemployment_df['Year'] =''\n",
    "unemployment_df['Period'] =''\n",
    "unemployment_df['Unemployment Rate'] =''\n",
    "unemployment_df['Footnote'] =''"
   ]
  },
  {
   "cell_type": "code",
   "execution_count": 11,
   "metadata": {},
   "outputs": [
    {
     "data": {
      "text/html": [
       "<div>\n",
       "<style scoped>\n",
       "    .dataframe tbody tr th:only-of-type {\n",
       "        vertical-align: middle;\n",
       "    }\n",
       "\n",
       "    .dataframe tbody tr th {\n",
       "        vertical-align: top;\n",
       "    }\n",
       "\n",
       "    .dataframe thead th {\n",
       "        text-align: right;\n",
       "    }\n",
       "</style>\n",
       "<table border=\"1\" class=\"dataframe\">\n",
       "  <thead>\n",
       "    <tr style=\"text-align: right;\">\n",
       "      <th></th>\n",
       "      <th>County</th>\n",
       "      <th>Year</th>\n",
       "      <th>Period</th>\n",
       "      <th>Unemployment Rate</th>\n",
       "      <th>Footnote</th>\n",
       "    </tr>\n",
       "  </thead>\n",
       "  <tbody>\n",
       "  </tbody>\n",
       "</table>\n",
       "</div>"
      ],
      "text/plain": [
       "Empty DataFrame\n",
       "Columns: [County, Year, Period, Unemployment Rate, Footnote]\n",
       "Index: []"
      ]
     },
     "execution_count": 11,
     "metadata": {},
     "output_type": "execute_result"
    }
   ],
   "source": [
    "unemployment_df"
   ]
  },
  {
   "cell_type": "markdown",
   "metadata": {},
   "source": [
    "### Using BLS API to retrieve the data for 8 counties in Connecticut"
   ]
  },
  {
   "cell_type": "code",
   "execution_count": 12,
   "metadata": {},
   "outputs": [
    {
     "name": "stdout",
     "output_type": "stream",
     "text": [
      "Fairfield\n",
      "Litchfield\n",
      "New Haven\n",
      "Middlesex\n",
      "Hartford\n",
      "Tolland\n",
      "New London\n",
      "Windham\n"
     ]
    }
   ],
   "source": [
    "\n",
    "headers = {'Content-type': 'application/json'}\n",
    "start_year, end_year = '2012', '2017'\n",
    "index = 0\n",
    "for county, sids in county_to_series_id.items():\n",
    "    print(county)\n",
    "#     print(sids)\n",
    "    data = json.dumps({\"seriesid\": sids,\"startyear\":start_year, \"endyear\":end_year})\n",
    "\n",
    "    p = requests.post('https://api.bls.gov/publicAPI/v2/timeseries/data/', data=data, headers=headers)\n",
    "\n",
    "    json_data = json.loads(p.text)\n",
    "    \n",
    "    for series in json_data['Results']['series']:\n",
    "        x=prettytable.PrettyTable([\"series id\",\"year\",\"period\",\"value\",\"footnotes\"])\n",
    "        seriesId = series['seriesID']\n",
    "\n",
    "        for item in series['data']:\n",
    "            year = item['year']\n",
    "            period = item['period']\n",
    "            value = item['value']\n",
    "            footnotes=\"\"\n",
    "            for footnote in item['footnotes']:\n",
    "                if footnote:\n",
    "                    footnotes = footnotes + footnote['text'] + ','\n",
    "            \n",
    "            if '.' in value:\n",
    "                unemployment_df.loc[index, 'County'] = county\n",
    "                unemployment_df.loc[index, 'Year'] = year\n",
    "                unemployment_df.loc[index, 'Period'] = periods.get(period)\n",
    "                unemployment_df.loc[index, 'Unemployment Rate'] = value\n",
    "                unemployment_df.loc[index, 'Footnote'] = footnotes[0:-1]\n",
    "            index +=1"
   ]
  },
  {
   "cell_type": "code",
   "execution_count": 18,
   "metadata": {},
   "outputs": [
    {
     "data": {
      "text/html": [
       "<div>\n",
       "<style scoped>\n",
       "    .dataframe tbody tr th:only-of-type {\n",
       "        vertical-align: middle;\n",
       "    }\n",
       "\n",
       "    .dataframe tbody tr th {\n",
       "        vertical-align: top;\n",
       "    }\n",
       "\n",
       "    .dataframe thead th {\n",
       "        text-align: right;\n",
       "    }\n",
       "</style>\n",
       "<table border=\"1\" class=\"dataframe\">\n",
       "  <thead>\n",
       "    <tr style=\"text-align: right;\">\n",
       "      <th></th>\n",
       "      <th>County</th>\n",
       "      <th>Year</th>\n",
       "      <th>Period</th>\n",
       "      <th>Unemployment Rate</th>\n",
       "      <th>Footnote</th>\n",
       "    </tr>\n",
       "  </thead>\n",
       "  <tbody>\n",
       "    <tr>\n",
       "      <th>0</th>\n",
       "      <td>Fairfield</td>\n",
       "      <td>2017</td>\n",
       "      <td>Dec</td>\n",
       "      <td>3.9</td>\n",
       "      <td>Data were subject to revision on April 20, 2018.</td>\n",
       "    </tr>\n",
       "    <tr>\n",
       "      <th>1</th>\n",
       "      <td>Fairfield</td>\n",
       "      <td>2017</td>\n",
       "      <td>Nov</td>\n",
       "      <td>4.1</td>\n",
       "      <td>Data were subject to revision on April 20, 2018.</td>\n",
       "    </tr>\n",
       "    <tr>\n",
       "      <th>2</th>\n",
       "      <td>Fairfield</td>\n",
       "      <td>2017</td>\n",
       "      <td>Oct</td>\n",
       "      <td>4.2</td>\n",
       "      <td>Data were subject to revision on April 20, 2018.</td>\n",
       "    </tr>\n",
       "    <tr>\n",
       "      <th>3</th>\n",
       "      <td>Fairfield</td>\n",
       "      <td>2017</td>\n",
       "      <td>Sept</td>\n",
       "      <td>4.2</td>\n",
       "      <td>Data were subject to revision on April 20, 2018.</td>\n",
       "    </tr>\n",
       "    <tr>\n",
       "      <th>4</th>\n",
       "      <td>Fairfield</td>\n",
       "      <td>2017</td>\n",
       "      <td>Aug</td>\n",
       "      <td>4.6</td>\n",
       "      <td>Data were subject to revision on April 20, 2018.</td>\n",
       "    </tr>\n",
       "  </tbody>\n",
       "</table>\n",
       "</div>"
      ],
      "text/plain": [
       "      County  Year Period Unemployment Rate  \\\n",
       "0  Fairfield  2017    Dec               3.9   \n",
       "1  Fairfield  2017    Nov               4.1   \n",
       "2  Fairfield  2017    Oct               4.2   \n",
       "3  Fairfield  2017   Sept               4.2   \n",
       "4  Fairfield  2017    Aug               4.6   \n",
       "\n",
       "                                           Footnote  \n",
       "0  Data were subject to revision on April 20, 2018.  \n",
       "1  Data were subject to revision on April 20, 2018.  \n",
       "2  Data were subject to revision on April 20, 2018.  \n",
       "3  Data were subject to revision on April 20, 2018.  \n",
       "4  Data were subject to revision on April 20, 2018.  "
      ]
     },
     "execution_count": 18,
     "metadata": {},
     "output_type": "execute_result"
    }
   ],
   "source": [
    "# Visualize the dataframe\n",
    "unemployment_df.head()"
   ]
  },
  {
   "cell_type": "code",
   "execution_count": 23,
   "metadata": {
    "scrolled": true
   },
   "outputs": [],
   "source": [
    "# Save to a csv file\n",
    "unemployment_df.to_csv('Resources/Unemployment_rate_by_county.csv', index=False)"
   ]
  },
  {
   "cell_type": "code",
   "execution_count": null,
   "metadata": {},
   "outputs": [],
   "source": []
  }
 ],
 "metadata": {
  "kernelspec": {
   "display_name": "Python 3",
   "language": "python",
   "name": "python3"
  },
  "language_info": {
   "codemirror_mode": {
    "name": "ipython",
    "version": 3
   },
   "file_extension": ".py",
   "mimetype": "text/x-python",
   "name": "python",
   "nbconvert_exporter": "python",
   "pygments_lexer": "ipython3",
   "version": "3.6.4"
  }
 },
 "nbformat": 4,
 "nbformat_minor": 2
}
