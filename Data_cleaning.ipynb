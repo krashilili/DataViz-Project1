{
 "cells": [
  {
   "cell_type": "code",
   "execution_count": 1,
   "metadata": {},
   "outputs": [],
   "source": [
    "# Dependencies# Depen \n",
    "import requests\n",
    "import json\n",
    "import pandas as pd\n",
    "# Google developer API key. Create a config.py and put your own google api key to the file.\n",
    "from config import gkey\n",
    "import numpy as np"
   ]
  },
  {
   "cell_type": "markdown",
   "metadata": {},
   "source": [
    "### Fill out the empty county cells using Google API"
   ]
  },
  {
   "cell_type": "code",
   "execution_count": 2,
   "metadata": {},
   "outputs": [
    {
     "data": {
      "text/plain": [
       "Index(['CaseNumber', 'Date', 'Year', 'Sex', 'Race', 'Age', 'Residence City',\n",
       "       'Residence State', 'Residence County', 'Death City', 'Death State',\n",
       "       'Death County', 'Location', 'DescriptionofInjury', 'InjuryPlace',\n",
       "       'ImmediateCauseA', 'Heroin', 'Cocaine', 'Fentanyl', 'Oxycodone',\n",
       "       'Oxymorphone', 'EtOH', 'Hydrocodone', 'Benzodiazepine', 'Methadone',\n",
       "       'Amphet', 'Tramad', 'Morphine (not heroin)', 'Other', 'Any Opioid',\n",
       "       'MannerofDeath', 'AmendedMannerofDeath', 'DeathLoc',\n",
       "       'DeathLocationCity', 'DeathLocLat', 'DeathLocLong'],\n",
       "      dtype='object')"
      ]
     },
     "execution_count": 2,
     "metadata": {},
     "output_type": "execute_result"
    }
   ],
   "source": [
    "# Import the raw data\n",
    "drug_death_raw_df = pd.read_csv(\"Resources/Accidental_Drug_Related_Deaths_2012-2017.csv\")\n",
    "drug_death_raw_df = drug_death_raw_df[1:]\n",
    "drug_death_raw_df.columns"
   ]
  },
  {
   "cell_type": "code",
   "execution_count": 3,
   "metadata": {
    "scrolled": true
   },
   "outputs": [],
   "source": [
    "# index = 0\n",
    "for rindex, row in drug_death_raw_df.iterrows():\n",
    "    death_county = row['Death County']\n",
    "\n",
    "    if pd.isnull(death_county):\n",
    "        \n",
    "        # Use Google geo-api to populate the empty county\n",
    "        death_city = row['DeathLocationCity']\n",
    "\n",
    "        # Target city\n",
    "        target_city = f\"{death_city}, CT\"\n",
    "\n",
    "        # Build the endpoint URL\n",
    "        target_url = \"https://maps.googleapis.com/maps/api/geocode/json?\" \\\n",
    "            \"address=%s&key=%s\" % (target_city, gkey)\n",
    "\n",
    "\n",
    "        try:\n",
    "            geo_data = requests.get(target_url).json()\n",
    "\n",
    "            # Print the json\n",
    "            county_name = ' '.join(geo_data[\"results\"][0][\"address_components\"][1]['long_name'].split(' ')[:2])\n",
    "\n",
    "            # Populate the death county cell\n",
    "            drug_death_raw_df.loc[rindex,'Death County'] = county_name\n",
    "            \n",
    "        except:\n",
    "            print(\"Failed.\")"
   ]
  },
  {
   "cell_type": "markdown",
   "metadata": {},
   "source": [
    "### Clean the county names"
   ]
  },
  {
   "cell_type": "code",
   "execution_count": 4,
   "metadata": {
    "scrolled": true
   },
   "outputs": [
    {
     "data": {
      "text/plain": [
       "HARTFORD              1022\n",
       "NEW HAVEN              975\n",
       "FAIRFIELD              555\n",
       "NEW LONDON             319\n",
       "LITCHFIELD             187\n",
       "Hartford County        181\n",
       "MIDDLESEX              154\n",
       "New Haven              140\n",
       "WINDHAM                116\n",
       "TOLLAND                100\n",
       "Fairfield County        99\n",
       "New London              37\n",
       "Manchester              29\n",
       "Windham County          23\n",
       "Litchfield              16\n",
       "Wallingford             15\n",
       "Tolland County          14\n",
       "Litchfield County       11\n",
       "Middlesex County        10\n",
       "Windham                 10\n",
       "Huntington               8\n",
       "Colchester               7\n",
       "Portland                 6\n",
       "Groton                   6\n",
       "Montville                4\n",
       "Deep River               4\n",
       "Guilford                 4\n",
       "Waterford                3\n",
       "Stonington               3\n",
       "Bethel                   2\n",
       "East Windsor             2\n",
       "Killingly                2\n",
       "Simsbury                 2\n",
       "Newtown                  2\n",
       "Watertown                1\n",
       "Sprague                  1\n",
       "Plymouth                 1\n",
       "Suffield                 1\n",
       "USA                      1\n",
       "Mansfield                1\n",
       "Connecticut Avenue       1\n",
       "Madison                  1\n",
       "Winchester               1\n",
       "Greenwich                1\n",
       "Griswold                 1\n",
       " FAIRFIELD               1\n",
       "Haddam                   1\n",
       "Westbrook                1\n",
       "Name: Death County, dtype: int64"
      ]
     },
     "execution_count": 4,
     "metadata": {},
     "output_type": "execute_result"
    }
   ],
   "source": [
    "drug_death_raw_df['Death County'].value_counts()"
   ]
  },
  {
   "cell_type": "code",
   "execution_count": 5,
   "metadata": {
    "scrolled": true
   },
   "outputs": [],
   "source": [
    "# County names in uppercase\n",
    "drug_death_raw_df['Death County'] = drug_death_raw_df['Death County'].str.upper()\n",
    "# Remove 'County' from the county names\n",
    "remove_county = lambda x: ' '.join(x.split(' ')[:-1]) if 'COUNTY' in x else x\n",
    "drug_death_raw_df['Death County'] = drug_death_raw_df['Death County'].apply(remove_county)\n",
    "# Remove whitespace\n",
    "drug_death_raw_df['Death County'] = drug_death_raw_df['Death County'].str.strip()\n",
    "# Clean the county cells filled with city names\n",
    "cities = {'MANCHESTER':'HARTFORD', 'WALLINGFORD':'NEW HAVEN',\n",
    "         'HUNTINGTON':'FAIRFIELD','COLCHESTER':'NEW LONDON',\n",
    "         'PORTLAND':'MIDDLESEX', 'GROTON':'NEW LONDON',\n",
    "         'GUILFORD':'NEW HAVEN', 'MONTVILLE':'NEW LONDON',\n",
    "         'DEEP RIVER':'MIDDLESEX','STONINGTON':'NEW LONDON',\n",
    "         'WATERFORD':'NEW LONDON','KILLINGLY':'WINDHAM',\n",
    "         'SIMSBURY':'HARTFORD', 'EAST WINDSOR':'HARTFORD',\n",
    "         'NEWTOWN':'FAIRFIELD', 'BETHEL':'FAIRFIELD',\n",
    "         'WESTBROOK':'MIDDLESEX','HADDAM':'MIDDLESEX',\n",
    "         'WINCHESTER':'LITCHFIELD','SPRAGUE':'NEW LONDON',\n",
    "         'GREENWICH':'FAIRFIELD','MADISON':'NEW HAVEN',\n",
    "         'WATERTOWN':'LITCHFIELD','GRISWOLD':'NEW LONDON',\n",
    "         'PLYMOUTH':'LITCHFIELD','MANSFIELD':'TOLLAND',\n",
    "         'CONNECTICUT AVENUE':'HARTFORD', 'SUFFIELD':'HARTFORD'}\n",
    "replace_cities = lambda x: cities.get(x) if x in cities.keys() else x\n",
    "drug_death_raw_df['Death County']= drug_death_raw_df['Death County'].apply(replace_cities)"
   ]
  },
  {
   "cell_type": "code",
   "execution_count": 6,
   "metadata": {},
   "outputs": [],
   "source": [
    "drug_death_df = drug_death_raw_df[drug_death_raw_df['Death County'] != 'USA']"
   ]
  },
  {
   "cell_type": "code",
   "execution_count": 7,
   "metadata": {},
   "outputs": [
    {
     "data": {
      "text/plain": [
       "HARTFORD      1238\n",
       "NEW HAVEN     1135\n",
       "FAIRFIELD      668\n",
       "NEW LONDON     381\n",
       "LITCHFIELD     217\n",
       "MIDDLESEX      176\n",
       "WINDHAM        151\n",
       "TOLLAND        115\n",
       "Name: Death County, dtype: int64"
      ]
     },
     "execution_count": 7,
     "metadata": {},
     "output_type": "execute_result"
    }
   ],
   "source": [
    "drug_death_df['Death County'].value_counts()"
   ]
  },
  {
   "cell_type": "code",
   "execution_count": 8,
   "metadata": {},
   "outputs": [],
   "source": [
    "# save the clean dataframe to csv\n",
    "drug_death_df.to_csv('Cleaned_county.csv')"
   ]
  },
  {
   "cell_type": "code",
   "execution_count": null,
   "metadata": {},
   "outputs": [],
   "source": []
  }
 ],
 "metadata": {
  "kernelspec": {
   "display_name": "Python 3",
   "language": "python",
   "name": "python3"
  },
  "language_info": {
   "codemirror_mode": {
    "name": "ipython",
    "version": 3
   },
   "file_extension": ".py",
   "mimetype": "text/x-python",
   "name": "python",
   "nbconvert_exporter": "python",
   "pygments_lexer": "ipython3",
   "version": "3.6.4"
  }
 },
 "nbformat": 4,
 "nbformat_minor": 2
}
